{
 "cells": [
  {
   "cell_type": "code",
   "execution_count": 1,
   "metadata": {},
   "outputs": [
    {
     "name": "stdout",
     "output_type": "stream",
     "text": [
      "<class 'pandas.core.frame.DataFrame'>\n",
      "RangeIndex: 5110 entries, 0 to 5109\n",
      "Data columns (total 12 columns):\n",
      " #   Column             Non-Null Count  Dtype  \n",
      "---  ------             --------------  -----  \n",
      " 0   id                 5110 non-null   int64  \n",
      " 1   gender             5110 non-null   object \n",
      " 2   age                5110 non-null   float64\n",
      " 3   hypertension       5110 non-null   int64  \n",
      " 4   heart_disease      5110 non-null   int64  \n",
      " 5   ever_married       5110 non-null   object \n",
      " 6   work_type          5110 non-null   object \n",
      " 7   Residence_type     5110 non-null   object \n",
      " 8   avg_glucose_level  5110 non-null   float64\n",
      " 9   bmi                4909 non-null   float64\n",
      " 10  smoking_status     5110 non-null   object \n",
      " 11  stroke             5110 non-null   int64  \n",
      "dtypes: float64(3), int64(4), object(5)\n",
      "memory usage: 479.2+ KB\n",
      "Record Count: 5110\n",
      "Feature Count: 12\n",
      "Null Values per Column:\n",
      " id                     0\n",
      "gender                 0\n",
      "age                    0\n",
      "hypertension           0\n",
      "heart_disease          0\n",
      "ever_married           0\n",
      "work_type              0\n",
      "Residence_type         0\n",
      "avg_glucose_level      0\n",
      "bmi                  201\n",
      "smoking_status         0\n",
      "stroke                 0\n",
      "dtype: int64\n",
      "Outliers per Column:\n",
      " {'id': 0, 'age': 0, 'hypertension': 498, 'heart_disease': 276, 'avg_glucose_level': 627, 'bmi': 110, 'stroke': 249}\n"
     ]
    }
   ],
   "source": [
    "import pandas as pd\n",
    "\n",
    "# بارگذاری داده‌ها\n",
    "data = pd.read_csv('/home/lili/Downloads/Telegram Desktop/data/healthcare-dataset-stroke-data.csv')\n",
    "\n",
    "# مشاهده اطلاعات اولیه مجموعه داده\n",
    "data_info = data.info()\n",
    "record_count = len(data)\n",
    "feature_count = data.shape[1]\n",
    "\n",
    "# مشاهده خلاصه‌ای از ویژگی‌ها و بررسی وجود مقادیر null\n",
    "null_values = data.isnull().sum()\n",
    "description = data.describe()\n",
    "\n",
    "# شناسایی نقاط پرت با توجه به ویژگی‌های عددی\n",
    "outliers = {}\n",
    "for column in data.select_dtypes(include=['float64', 'int64']).columns:\n",
    "    Q1 = data[column].quantile(0.25)\n",
    "    Q3 = data[column].quantile(0.75)\n",
    "    IQR = Q3 - Q1\n",
    "    outliers[column] = data[(data[column] < (Q1 - 1.5 * IQR)) | (data[column] > (Q3 + 1.5 * IQR))].shape[0]\n",
    "\n",
    "print(\"Record Count:\", record_count)\n",
    "print(\"Feature Count:\", feature_count)\n",
    "print(\"Null Values per Column:\\n\", null_values)\n",
    "print(\"Outliers per Column:\\n\", outliers)\n"
   ]
  }
 ],
 "metadata": {
  "kernelspec": {
   "display_name": "Python 3",
   "language": "python",
   "name": "python3"
  },
  "language_info": {
   "codemirror_mode": {
    "name": "ipython",
    "version": 3
   },
   "file_extension": ".py",
   "mimetype": "text/x-python",
   "name": "python",
   "nbconvert_exporter": "python",
   "pygments_lexer": "ipython3",
   "version": "3.12.7"
  }
 },
 "nbformat": 4,
 "nbformat_minor": 2
}
