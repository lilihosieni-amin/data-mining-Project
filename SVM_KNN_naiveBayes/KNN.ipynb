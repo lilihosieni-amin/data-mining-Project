{
 "cells": [
  {
   "cell_type": "markdown",
   "metadata": {},
   "source": [
    "Data Overview"
   ]
  },
  {
   "cell_type": "code",
   "execution_count": 19,
   "metadata": {},
   "outputs": [
    {
     "data": {
      "text/html": [
       "<div>\n",
       "<style scoped>\n",
       "    .dataframe tbody tr th:only-of-type {\n",
       "        vertical-align: middle;\n",
       "    }\n",
       "\n",
       "    .dataframe tbody tr th {\n",
       "        vertical-align: top;\n",
       "    }\n",
       "\n",
       "    .dataframe thead th {\n",
       "        text-align: right;\n",
       "    }\n",
       "</style>\n",
       "<table border=\"1\" class=\"dataframe\">\n",
       "  <thead>\n",
       "    <tr style=\"text-align: right;\">\n",
       "      <th></th>\n",
       "      <th>gender</th>\n",
       "      <th>age</th>\n",
       "      <th>hypertension</th>\n",
       "      <th>heart_disease</th>\n",
       "      <th>ever_married</th>\n",
       "      <th>work_type</th>\n",
       "      <th>Residence_type</th>\n",
       "      <th>avg_glucose_level</th>\n",
       "      <th>bmi</th>\n",
       "      <th>smoking_status</th>\n",
       "      <th>stroke</th>\n",
       "    </tr>\n",
       "  </thead>\n",
       "  <tbody>\n",
       "    <tr>\n",
       "      <th>0</th>\n",
       "      <td>1</td>\n",
       "      <td>1.051434</td>\n",
       "      <td>0</td>\n",
       "      <td>1</td>\n",
       "      <td>1</td>\n",
       "      <td>2</td>\n",
       "      <td>1</td>\n",
       "      <td>2.058363</td>\n",
       "      <td>1.110872</td>\n",
       "      <td>1</td>\n",
       "      <td>1</td>\n",
       "    </tr>\n",
       "    <tr>\n",
       "      <th>1</th>\n",
       "      <td>0</td>\n",
       "      <td>0.786070</td>\n",
       "      <td>0</td>\n",
       "      <td>0</td>\n",
       "      <td>1</td>\n",
       "      <td>3</td>\n",
       "      <td>0</td>\n",
       "      <td>2.058363</td>\n",
       "      <td>-0.082921</td>\n",
       "      <td>2</td>\n",
       "      <td>1</td>\n",
       "    </tr>\n",
       "    <tr>\n",
       "      <th>2</th>\n",
       "      <td>1</td>\n",
       "      <td>1.626390</td>\n",
       "      <td>0</td>\n",
       "      <td>1</td>\n",
       "      <td>1</td>\n",
       "      <td>2</td>\n",
       "      <td>0</td>\n",
       "      <td>0.148256</td>\n",
       "      <td>0.535043</td>\n",
       "      <td>2</td>\n",
       "      <td>1</td>\n",
       "    </tr>\n",
       "    <tr>\n",
       "      <th>3</th>\n",
       "      <td>0</td>\n",
       "      <td>0.255342</td>\n",
       "      <td>0</td>\n",
       "      <td>0</td>\n",
       "      <td>1</td>\n",
       "      <td>2</td>\n",
       "      <td>1</td>\n",
       "      <td>2.058363</td>\n",
       "      <td>0.801890</td>\n",
       "      <td>3</td>\n",
       "      <td>1</td>\n",
       "    </tr>\n",
       "    <tr>\n",
       "      <th>4</th>\n",
       "      <td>0</td>\n",
       "      <td>1.582163</td>\n",
       "      <td>1</td>\n",
       "      <td>0</td>\n",
       "      <td>1</td>\n",
       "      <td>3</td>\n",
       "      <td>0</td>\n",
       "      <td>2.058363</td>\n",
       "      <td>-0.658751</td>\n",
       "      <td>2</td>\n",
       "      <td>1</td>\n",
       "    </tr>\n",
       "  </tbody>\n",
       "</table>\n",
       "</div>"
      ],
      "text/plain": [
       "   gender       age  hypertension  heart_disease  ever_married  work_type  \\\n",
       "0       1  1.051434             0              1             1          2   \n",
       "1       0  0.786070             0              0             1          3   \n",
       "2       1  1.626390             0              1             1          2   \n",
       "3       0  0.255342             0              0             1          2   \n",
       "4       0  1.582163             1              0             1          3   \n",
       "\n",
       "   Residence_type  avg_glucose_level       bmi  smoking_status  stroke  \n",
       "0               1           2.058363  1.110872               1       1  \n",
       "1               0           2.058363 -0.082921               2       1  \n",
       "2               0           0.148256  0.535043               2       1  \n",
       "3               1           2.058363  0.801890               3       1  \n",
       "4               0           2.058363 -0.658751               2       1  "
      ]
     },
     "execution_count": 19,
     "metadata": {},
     "output_type": "execute_result"
    }
   ],
   "source": [
    "import pandas as pd\n",
    "\n",
    "# Load the dataset\n",
    "data = pd.read_csv('/home/lili/Downloads/Telegram Desktop/data mining/tamrin 3/cleaned_data.csv')\n",
    "\n",
    "# Display the first few rows of the data\n",
    "data.head()"
   ]
  },
  {
   "cell_type": "markdown",
   "metadata": {},
   "source": [
    "Data Splitting for Training and Testing"
   ]
  },
  {
   "cell_type": "code",
   "execution_count": 20,
   "metadata": {},
   "outputs": [],
   "source": [
    "from sklearn.model_selection import train_test_split\n",
    "\n",
    "# Separate features and target variable\n",
    "X = data.drop('stroke', axis=1)\n",
    "y = data['stroke']\n",
    "\n",
    "# Split the data into training and testing sets (80% train, 20% test)\n",
    "X_train, X_test, y_train, y_test = train_test_split(X, y, test_size=0.2, random_state=42)"
   ]
  },
  {
   "cell_type": "markdown",
   "metadata": {},
   "source": [
    "Balancing Classes Using SMOTE"
   ]
  },
  {
   "cell_type": "code",
   "execution_count": 21,
   "metadata": {},
   "outputs": [],
   "source": [
    "from imblearn.over_sampling import SMOTE\n",
    "\n",
    "# Apply SMOTE to balance the classes in the training set\n",
    "smote = SMOTE(random_state=42)\n",
    "X_resampled, y_resampled = smote.fit_resample(X_train, y_train)"
   ]
  },
  {
   "cell_type": "markdown",
   "metadata": {},
   "source": [
    "Model Implementation: K-Nearest Neighbors (KNN) with euclidean"
   ]
  },
  {
   "cell_type": "code",
   "execution_count": 22,
   "metadata": {},
   "outputs": [
    {
     "name": "stdout",
     "output_type": "stream",
     "text": [
      "   n_neighbors     metric  accuracy  precision_stroke  recall_stroke  \\\n",
      "0            3  euclidean  0.931507          0.250000       0.064516   \n",
      "1            5  euclidean  0.935421          0.250000       0.032258   \n",
      "2            7  euclidean  0.938356          0.333333       0.016129   \n",
      "\n",
      "   f1_score_stroke      confusion_matrix  \n",
      "0         0.102564  [[948, 12], [58, 4]]  \n",
      "1         0.057143   [[954, 6], [60, 2]]  \n",
      "2         0.030769   [[958, 2], [61, 1]]  \n"
     ]
    }
   ],
   "source": [
    "from sklearn.neighbors import KNeighborsClassifier\n",
    "from sklearn.metrics import accuracy_score, classification_report, confusion_matrix\n",
    "\n",
    "# Initialize a list to store results\n",
    "knn_results = []\n",
    "\n",
    "# Test different values for n_neighbors and metrics\n",
    "for n in [3, 5, 7]:\n",
    "        knn = KNeighborsClassifier(n_neighbors=n, metric='euclidean', weights='distance')\n",
    "        knn.fit(X_train, y_train)\n",
    "        y_knn_pred = knn.predict(X_test)\n",
    "        \n",
    "        # Evaluate the model\n",
    "        accuracy = accuracy_score(y_test, y_knn_pred)\n",
    "        report = classification_report(y_test, y_knn_pred, output_dict=True)\n",
    "        confusion = confusion_matrix(y_test, y_knn_pred)\n",
    "        \n",
    "        knn_results.append({\n",
    "            \"n_neighbors\": n,\n",
    "            \"metric\": 'euclidean',\n",
    "            \"accuracy\": accuracy,\n",
    "            \"precision_stroke\": report['1']['precision'],\n",
    "            \"recall_stroke\": report['1']['recall'],\n",
    "            \"f1_score_stroke\": report['1']['f1-score'],\n",
    "            \"confusion_matrix\": confusion\n",
    "        })\n",
    "\n",
    "# Print the results\n",
    "import pandas as pd\n",
    "knn_df = pd.DataFrame(knn_results)\n",
    "print(knn_df)\n"
   ]
  },
  {
   "cell_type": "markdown",
   "metadata": {},
   "source": [
    "Model Implementation: K-Nearest Neighbors (KNN) with manhattan"
   ]
  },
  {
   "cell_type": "code",
   "execution_count": 23,
   "metadata": {},
   "outputs": [
    {
     "name": "stdout",
     "output_type": "stream",
     "text": [
      "   n_neighbors     metric  accuracy  precision_stroke  recall_stroke  \\\n",
      "0            3  manhattan  0.932485          0.266667       0.064516   \n",
      "1            5  manhattan  0.937378          0.375000       0.048387   \n",
      "2            7  manhattan  0.937378          0.250000       0.016129   \n",
      "\n",
      "   f1_score_stroke      confusion_matrix  \n",
      "0         0.103896  [[949, 11], [58, 4]]  \n",
      "1         0.085714   [[955, 5], [59, 3]]  \n",
      "2         0.030303   [[957, 3], [61, 1]]  \n"
     ]
    }
   ],
   "source": [
    "knn_results = []\n",
    "\n",
    "# Test different values for n_neighbors and metrics\n",
    "for n in [3, 5, 7]:\n",
    "        knn = KNeighborsClassifier(n_neighbors=n, metric='manhattan', weights='distance')\n",
    "        knn.fit(X_train, y_train)\n",
    "        y_knn_pred = knn.predict(X_test)\n",
    "        \n",
    "        # Evaluate the model\n",
    "        accuracy = accuracy_score(y_test, y_knn_pred)\n",
    "        report = classification_report(y_test, y_knn_pred, output_dict=True)\n",
    "        confusion = confusion_matrix(y_test, y_knn_pred)\n",
    "        knn_results.append({\n",
    "            \"n_neighbors\": n,\n",
    "            \"metric\": 'manhattan',\n",
    "            \"accuracy\": accuracy,\n",
    "            \"precision_stroke\": report['1']['precision'],\n",
    "            \"recall_stroke\": report['1']['recall'],\n",
    "            \"f1_score_stroke\": report['1']['f1-score'],\n",
    "            \"confusion_matrix\": confusion\n",
    "        })\n",
    "\n",
    "# Print the results\n",
    "import pandas as pd\n",
    "knn_df = pd.DataFrame(knn_results)\n",
    "print(knn_df)"
   ]
  },
  {
   "cell_type": "markdown",
   "metadata": {},
   "source": [
    "Model Implementation: K-Nearest Neighbors (KNN) with Smote"
   ]
  },
  {
   "cell_type": "code",
   "execution_count": 24,
   "metadata": {},
   "outputs": [
    {
     "name": "stdout",
     "output_type": "stream",
     "text": [
      "   n_neighbors     metric  accuracy  precision_stroke  recall_stroke  \\\n",
      "0            3  euclidean  0.813112          0.122807       0.338710   \n",
      "1            5  euclidean  0.802348          0.135417       0.419355   \n",
      "2            7  euclidean  0.794521          0.130000       0.419355   \n",
      "\n",
      "   f1_score_stroke        confusion_matrix  \n",
      "0         0.180258  [[810, 150], [41, 21]]  \n",
      "1         0.204724  [[794, 166], [36, 26]]  \n",
      "2         0.198473  [[786, 174], [36, 26]]  \n"
     ]
    }
   ],
   "source": [
    "from sklearn.neighbors import KNeighborsClassifier\n",
    "from sklearn.metrics import accuracy_score, classification_report, confusion_matrix\n",
    "\n",
    "# Initialize a list to store results\n",
    "knn_results = []\n",
    "\n",
    "# Test different values for n_neighbors and metrics\n",
    "for n in [3, 5, 7]:\n",
    "        knn = KNeighborsClassifier(n_neighbors=n, metric='euclidean', weights='distance')\n",
    "        knn.fit(X_resampled, y_resampled)\n",
    "        y_knn_pred = knn.predict(X_test)\n",
    "        \n",
    "        # Evaluate the model\n",
    "        accuracy = accuracy_score(y_test, y_knn_pred)\n",
    "        report = classification_report(y_test, y_knn_pred, output_dict=True)\n",
    "        confusion = confusion_matrix(y_test, y_knn_pred)\n",
    "        \n",
    "        knn_results.append({\n",
    "            \"n_neighbors\": n,\n",
    "            \"metric\": 'euclidean',\n",
    "            \"accuracy\": accuracy,\n",
    "            \"precision_stroke\": report['1']['precision'],\n",
    "            \"recall_stroke\": report['1']['recall'],\n",
    "            \"f1_score_stroke\": report['1']['f1-score'],\n",
    "            \"confusion_matrix\": confusion\n",
    "        })\n",
    "\n",
    "# Print the results\n",
    "import pandas as pd\n",
    "knn_df = pd.DataFrame(knn_results)\n",
    "print(knn_df)"
   ]
  },
  {
   "cell_type": "markdown",
   "metadata": {},
   "source": [
    "Model Implementation: K-Nearest Neighbors (KNN) with Smote"
   ]
  },
  {
   "cell_type": "code",
   "execution_count": 25,
   "metadata": {},
   "outputs": [
    {
     "name": "stdout",
     "output_type": "stream",
     "text": [
      "   n_neighbors     metric  accuracy  precision_stroke  recall_stroke  \\\n",
      "0            3  manhattan  0.816047          0.125000       0.338710   \n",
      "1            5  manhattan  0.797456          0.139303       0.451613   \n",
      "2            7  manhattan  0.789628          0.130435       0.435484   \n",
      "\n",
      "   f1_score_stroke        confusion_matrix  \n",
      "0         0.182609  [[813, 147], [41, 21]]  \n",
      "1         0.212928  [[787, 173], [34, 28]]  \n",
      "2         0.200743  [[780, 180], [35, 27]]  \n"
     ]
    }
   ],
   "source": [
    "knn_results = []\n",
    "\n",
    "# Test different values for n_neighbors and metrics\n",
    "for n in [3, 5, 7]:\n",
    "        knn = KNeighborsClassifier(n_neighbors=n, metric='manhattan', weights='distance')\n",
    "        knn.fit(X_resampled, y_resampled)\n",
    "        y_knn_pred = knn.predict(X_test)\n",
    "        \n",
    "        # Evaluate the model\n",
    "        accuracy = accuracy_score(y_test, y_knn_pred)\n",
    "        report = classification_report(y_test, y_knn_pred, output_dict=True)\n",
    "        confusion = confusion_matrix(y_test, y_knn_pred)\n",
    "        knn_results.append({\n",
    "            \"n_neighbors\": n,\n",
    "            \"metric\": 'manhattan',\n",
    "            \"accuracy\": accuracy,\n",
    "            \"precision_stroke\": report['1']['precision'],\n",
    "            \"recall_stroke\": report['1']['recall'],\n",
    "            \"f1_score_stroke\": report['1']['f1-score'],\n",
    "            \"confusion_matrix\": confusion\n",
    "        })\n",
    "\n",
    "# Print the results\n",
    "import pandas as pd\n",
    "knn_df = pd.DataFrame(knn_results)\n",
    "print(knn_df)"
   ]
  }
 ],
 "metadata": {
  "kernelspec": {
   "display_name": "Python 3",
   "language": "python",
   "name": "python3"
  },
  "language_info": {
   "codemirror_mode": {
    "name": "ipython",
    "version": 3
   },
   "file_extension": ".py",
   "mimetype": "text/x-python",
   "name": "python",
   "nbconvert_exporter": "python",
   "pygments_lexer": "ipython3",
   "version": "3.12.7"
  }
 },
 "nbformat": 4,
 "nbformat_minor": 2
}
